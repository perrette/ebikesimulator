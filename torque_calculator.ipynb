{
 "cells": [
  {
   "cell_type": "markdown",
   "metadata": {},
   "source": [
    "# Force applied"
   ]
  },
  {
   "cell_type": "markdown",
   "metadata": {},
   "source": [
    "vitesse roue = v = w * r"
   ]
  },
  {
   "cell_type": "code",
   "execution_count": 26,
   "metadata": {},
   "outputs": [
    {
     "data": {
      "text/plain": [
       "25.688073394495405"
      ]
     },
     "execution_count": 26,
     "metadata": {},
     "output_type": "execute_result"
    }
   ],
   "source": [
    "R = 0.7   # wheel\n",
    "rr = 0.05  # rear\n",
    "fr = 0.1   # front\n",
    "cr = 0.2   # crank\n",
    "\n",
    "V = 15/3.6  # bike speed in m/s\n",
    "human_power = 150\n",
    "\n",
    "W = V / R # angular speed of back wheel\n",
    "chain_speed = rr*W  # chain speed  (depends on which rear gear)\n",
    "w = chain_speed / fr # angular speed of pedals\n",
    "pedal_speed = w*cr\n",
    "\n",
    "pedal_force_kg = (human_power/pedal_speed/9.81)\n",
    "pedal_force_kg"
   ]
  },
  {
   "cell_type": "code",
   "execution_count": 18,
   "metadata": {},
   "outputs": [
    {
     "data": {
      "text/plain": [
       "531.2500000000001"
      ]
     },
     "execution_count": 18,
     "metadata": {},
     "output_type": "execute_result"
    }
   ],
   "source": [
    "slope = 0.1   # slope in %\n",
    "g = 9.81\n",
    "mass = 100  # kg\n",
    "wind_drag = 0\n",
    "human_power = 150 \n",
    "needed_power = (mass*g*slope + wind_drag)*V\n",
    "motor_power = needed_power - human_power\n",
    "motor_power\n",
    "#pedal_speed*3.6"
   ]
  },
  {
   "cell_type": "code",
   "execution_count": 22,
   "metadata": {},
   "outputs": [
    {
     "data": {
      "text/plain": [
       "151.2"
      ]
     },
     "execution_count": 22,
     "metadata": {},
     "output_type": "execute_result"
    }
   ],
   "source": [
    "human_power/pedal_speed"
   ]
  },
  {
   "cell_type": "code",
   "execution_count": 23,
   "metadata": {},
   "outputs": [
    {
     "data": {
      "text/plain": [
       "0.9920634920634921"
      ]
     },
     "execution_count": 23,
     "metadata": {},
     "output_type": "execute_result"
    }
   ],
   "source": [
    "pedal_speed"
   ]
  },
  {
   "cell_type": "markdown",
   "metadata": {},
   "source": [
    "Max speed given pedal rate (rpm), chainring/cassette, wheel diameter \n",
    "\n",
    "speed along chain = vitesse angulaire * radius (front and rear)"
   ]
  },
  {
   "cell_type": "code",
   "execution_count": 24,
   "metadata": {},
   "outputs": [
    {
     "data": {
      "text/plain": [
       "35.26580553320615"
      ]
     },
     "execution_count": 24,
     "metadata": {},
     "output_type": "execute_result"
    }
   ],
   "source": [
    "import math\n",
    "rpm = 70\n",
    "chainring = 42\n",
    "cassette = 11\n",
    "wheel_diameter = 0.7\n",
    "rad_per_h = rpm*2*math.pi*60  \n",
    "wheel_rad_per_h = rad_per_h*chainring/cassette\n",
    "speed_wheel_kmh = wheel_rad_per_h*wheel_diameter/2*1e-3\n",
    "speed_wheel_kmh"
   ]
  },
  {
   "cell_type": "markdown",
   "metadata": {},
   "source": [
    "Max torque \n",
    "\n",
    "force along chain = torque / radius (front and rear)"
   ]
  },
  {
   "cell_type": "code",
   "execution_count": 21,
   "metadata": {},
   "outputs": [
    {
     "data": {
      "text/plain": [
       "(39.24000000000001, 57.07636363636365)"
      ]
     },
     "execution_count": 21,
     "metadata": {},
     "output_type": "execute_result"
    }
   ],
   "source": [
    "cranksize = 0.2\n",
    "weight_pedal = 20 \n",
    "g = 9.81\n",
    "torque_pedal = weight_pedal*g*cranksize\n",
    "torque_wheel = torque_pedal*cassette/chainring\n",
    "torque_pedal, torque_wheel"
   ]
  },
  {
   "cell_type": "code",
   "execution_count": 22,
   "metadata": {},
   "outputs": [
    {
     "data": {
      "text/plain": [
       "68.57142857142857"
      ]
     },
     "execution_count": 22,
     "metadata": {},
     "output_type": "execute_result"
    }
   ],
   "source": [
    "motor_torque = 90\n",
    "motor_chainring = 42\n",
    "torque_wheel = motor_torque*cassette/motor_chainring\n",
    "torque_wheel"
   ]
  },
  {
   "cell_type": "code",
   "execution_count": null,
   "metadata": {},
   "outputs": [],
   "source": []
  }
 ],
 "metadata": {
  "kernelspec": {
   "display_name": "Python 3",
   "language": "python",
   "name": "python3"
  },
  "language_info": {
   "codemirror_mode": {
    "name": "ipython",
    "version": 3
   },
   "file_extension": ".py",
   "mimetype": "text/x-python",
   "name": "python",
   "nbconvert_exporter": "python",
   "pygments_lexer": "ipython3",
   "version": "3.6.7"
  }
 },
 "nbformat": 4,
 "nbformat_minor": 2
}
