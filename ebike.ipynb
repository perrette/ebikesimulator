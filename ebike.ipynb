{
 "cells": [
  {
   "cell_type": "markdown",
   "metadata": {},
   "source": [
    "# Batteries listing"
   ]
  },
  {
   "cell_type": "code",
   "execution_count": 32,
   "metadata": {},
   "outputs": [],
   "source": [
    "class Motor:\n",
    "    def __init__(self, tension, price, url, desc='', shipping=0, note=''):\n",
    "        self.tension = tension\n",
    "        self.price = price\n",
    "        self.shipping = shipping\n",
    "        self.url = url\n",
    "        self.desc = desc\n",
    "        self.note = note\n",
    "\n",
    "    def _repr_html_(self):\n",
    "        return str(self)+(' <a href=\"{}\">LINK</a>'.format(self.url) if self.url else '')\n",
    "\n",
    "    def __str__(self):\n",
    "        return \"{} V, {} E ({}, {})\".format(self.tension, self.price+self.shipping, self.desc, self.note) \n",
    "    \n",
    "class Battery:\n",
    "    def __init__(self, tension, ah, price, weight, maxa=None, desc='', url='', note='', shipping=0):\n",
    "        self.ah = ah\n",
    "        self.tension = tension\n",
    "        self.price = price\n",
    "        self.maxa = maxa\n",
    "        self.capacity = wh = ah*tension\n",
    "        self.desc = desc\n",
    "        self.note = note\n",
    "        self.weight = weight\n",
    "        self.shipping = shipping\n",
    "        self.url = url\n",
    "        self.euros_per_wh = price/wh\n",
    "        self.kg_per_wh = weight/wh if weight is not None else None\n",
    "        \n",
    "    def _repr_html_(self):\n",
    "        return str(self)+(' <a href=\"{}\">LINK</a>'.format(self.url) if self.url else '')\n",
    "\n",
    "    def __str__(self):\n",
    "        return \"{} V, {} Wh, {} E :: {:.2f} kg/500 Wh, {:.0f} E/500 Wh :: {}\".format(\n",
    "            self.tension, int(self.capacity), self.price, self.kg_per_wh*500, self.euros_per_wh*500, self.desc)\n",
    "    \n",
    "class Listing(list):\n",
    "    def __str__(self):\n",
    "        lines = []\n",
    "        for b in self:\n",
    "            lines.append(str(b))\n",
    "        return '\\n'.join(lines)\n",
    "    \n",
    "    def _repr_html_(self):\n",
    "        from jinja2 import Template\n",
    "        return Template(\"\"\"\n",
    "        <ul>\n",
    "            {% for el in elements%}\n",
    "            <li>{{el._repr_html_()}}</li>\n",
    "            {% endfor %}\n",
    "        </ul>\n",
    "        \"\"\").render(elements=self)"
   ]
  },
  {
   "cell_type": "code",
   "execution_count": 34,
   "metadata": {},
   "outputs": [
    {
     "data": {
      "text/html": [
       "\n",
       "        <ul>\n",
       "            \n",
       "            <li>48 V, 362 E (21sept-10oct, includes brakes, V5 display, good vendor) <a href=\"https://www.amazon.de/TONGSHENG-Mittelmotor-Elektrofahrrad-Drehmoment-Umbausatz/dp/B07HK1DM35?th=1&psc=1\">LINK</a></li>\n",
       "            \n",
       "            <li>48 V, 619 E (+48V10Ah, 21sept-10oct, ) <a href=\"https://www.amazon.de/TONGSHENG-Mittelmotor-Elektrofahrrad-Drehmoment-Umbausatz/dp/B07VLK9NT7?th=1&psc=1\">LINK</a></li>\n",
       "            \n",
       "            <li>48 V, 804 E (+48V17.5Ah, 21sept-10oct, ) <a href=\"https://www.amazon.de/TONGSHENG-Mittelmotor-Elektrofahrrad-Drehmoment-Umbausatz/dp/B07VPSGJ48?th=1&psc=1\">LINK</a></li>\n",
       "            \n",
       "            <li>48 V, 326 E (4-10 days (21sept max), ebird recommended, VLCD6, senza freni) <a href=\"https://it.aliexpress.com/item/32834396446.html\">LINK</a></li>\n",
       "            \n",
       "            <li>48 V, 333 E (7-14 days, from China) <a href=\"https://it.aliexpress.com/item/32834396446.html\">LINK</a></li>\n",
       "            \n",
       "            <li>52 V, 369 E (7-14 days, from China) <a href=\"https://it.aliexpress.com/item/32834396446.html\">LINK</a></li>\n",
       "            \n",
       "        </ul>\n",
       "        "
      ],
      "text/plain": [
       "[<__main__.Motor at 0x7fadd7716cf8>,\n",
       " <__main__.Motor at 0x7fadd7716cc0>,\n",
       " <__main__.Motor at 0x7fadd77164e0>,\n",
       " <__main__.Motor at 0x7fadd7716d30>,\n",
       " <__main__.Motor at 0x7fadd7716438>,\n",
       " <__main__.Motor at 0x7fadd7716ba8>]"
      ]
     },
     "execution_count": 34,
     "metadata": {},
     "output_type": "execute_result"
    }
   ],
   "source": [
    "motors = Listing([\n",
    "    Motor(48, 326, 'https://www.amazon.de/TONGSHENG-Mittelmotor-Elektrofahrrad-Drehmoment-Umbausatz/dp/B07HK1DM35?th=1&psc=1', shipping=36, desc='21sept-10oct', note='includes brakes, V5 display, good vendor'),\n",
    "    Motor(48, 553, 'https://www.amazon.de/TONGSHENG-Mittelmotor-Elektrofahrrad-Drehmoment-Umbausatz/dp/B07VLK9NT7?th=1&psc=1', shipping=66, desc='+48V10Ah, 21sept-10oct'),\n",
    "    Motor(48, 738, 'https://www.amazon.de/TONGSHENG-Mittelmotor-Elektrofahrrad-Drehmoment-Umbausatz/dp/B07VPSGJ48?th=1&psc=1', shipping=66, desc='+48V17.5Ah, 21sept-10oct'),    \n",
    "    Motor(48, 326, 'https://it.aliexpress.com/item/32834396446.html', shipping=0, desc='4-10 days (21sept max)', note='ebird recommended, VLCD6, senza freni'),\n",
    "    Motor(48, 304, 'https://it.aliexpress.com/item/32834396446.html', shipping=29, desc='7-14 days', note='from China'),\n",
    "    Motor(52, 340, 'https://it.aliexpress.com/item/32834396446.html', shipping=29, desc='7-14 days', note='from China'),\n",
    "])\n",
    "\n",
    "motors"
   ]
  },
  {
   "cell_type": "code",
   "execution_count": 45,
   "metadata": {
    "scrolled": false
   },
   "outputs": [
    {
     "data": {
      "text/html": [
       "<div>\n",
       "<style scoped>\n",
       "    .dataframe tbody tr th:only-of-type {\n",
       "        vertical-align: middle;\n",
       "    }\n",
       "\n",
       "    .dataframe tbody tr th {\n",
       "        vertical-align: top;\n",
       "    }\n",
       "\n",
       "    .dataframe thead th {\n",
       "        text-align: right;\n",
       "    }\n",
       "</style>\n",
       "<table border=\"1\" class=\"dataframe\">\n",
       "  <thead>\n",
       "    <tr style=\"text-align: right;\">\n",
       "      <th></th>\n",
       "      <th>V</th>\n",
       "      <th>Ah</th>\n",
       "      <th>Wh</th>\n",
       "      <th>Euros</th>\n",
       "      <th>kg</th>\n",
       "      <th>kg/kWh</th>\n",
       "      <th>E/kWh</th>\n",
       "      <th>desc</th>\n",
       "    </tr>\n",
       "  </thead>\n",
       "  <tbody>\n",
       "    <tr>\n",
       "      <th>0</th>\n",
       "      <td>50.4</td>\n",
       "      <td>25.7</td>\n",
       "      <td>1295.28</td>\n",
       "      <td>588</td>\n",
       "      <td>6.8</td>\n",
       "      <td>5.2</td>\n",
       "      <td>454.0</td>\n",
       "      <td>em3ev 14S9P - triange - PF</td>\n",
       "    </tr>\n",
       "    <tr>\n",
       "      <th>1</th>\n",
       "      <td>50.4</td>\n",
       "      <td>30.6</td>\n",
       "      <td>1542.24</td>\n",
       "      <td>724</td>\n",
       "      <td>6.8</td>\n",
       "      <td>4.4</td>\n",
       "      <td>469.4</td>\n",
       "      <td>em3ev 14S9P - triange - 35E</td>\n",
       "    </tr>\n",
       "    <tr>\n",
       "      <th>2</th>\n",
       "      <td>50.4</td>\n",
       "      <td>17.1</td>\n",
       "      <td>861.84</td>\n",
       "      <td>407</td>\n",
       "      <td>4.5</td>\n",
       "      <td>5.2</td>\n",
       "      <td>472.2</td>\n",
       "      <td>em3ev 14S6P - triange - PF</td>\n",
       "    </tr>\n",
       "    <tr>\n",
       "      <th>3</th>\n",
       "      <td>50.4</td>\n",
       "      <td>20.4</td>\n",
       "      <td>1028.16</td>\n",
       "      <td>516</td>\n",
       "      <td>4.5</td>\n",
       "      <td>4.4</td>\n",
       "      <td>501.9</td>\n",
       "      <td>em3ev 14S6P - triange - 35E</td>\n",
       "    </tr>\n",
       "    <tr>\n",
       "      <th>4</th>\n",
       "      <td>50.4</td>\n",
       "      <td>14.3</td>\n",
       "      <td>720.72</td>\n",
       "      <td>363</td>\n",
       "      <td>4.9</td>\n",
       "      <td>6.8</td>\n",
       "      <td>503.7</td>\n",
       "      <td>em3ev 14S5P - J-shark - PF</td>\n",
       "    </tr>\n",
       "    <tr>\n",
       "      <th>5</th>\n",
       "      <td>50.4</td>\n",
       "      <td>17.0</td>\n",
       "      <td>856.80</td>\n",
       "      <td>435</td>\n",
       "      <td>4.9</td>\n",
       "      <td>5.7</td>\n",
       "      <td>507.7</td>\n",
       "      <td>em3ev 14S5P - J-shark - 35E</td>\n",
       "    </tr>\n",
       "    <tr>\n",
       "      <th>8</th>\n",
       "      <td>46.8</td>\n",
       "      <td>14.3</td>\n",
       "      <td>669.24</td>\n",
       "      <td>345</td>\n",
       "      <td>4.6</td>\n",
       "      <td>6.9</td>\n",
       "      <td>515.5</td>\n",
       "      <td>em3ev 13S5P - J-shark - PF</td>\n",
       "    </tr>\n",
       "    <tr>\n",
       "      <th>9</th>\n",
       "      <td>46.8</td>\n",
       "      <td>17.0</td>\n",
       "      <td>795.60</td>\n",
       "      <td>413</td>\n",
       "      <td>4.6</td>\n",
       "      <td>5.8</td>\n",
       "      <td>519.1</td>\n",
       "      <td>em3ev 13S5P - J-shark - 35E</td>\n",
       "    </tr>\n",
       "    <tr>\n",
       "      <th>6</th>\n",
       "      <td>50.4</td>\n",
       "      <td>11.4</td>\n",
       "      <td>574.56</td>\n",
       "      <td>308</td>\n",
       "      <td>4.1</td>\n",
       "      <td>7.1</td>\n",
       "      <td>536.1</td>\n",
       "      <td>em3ev 14S4P - shark - PF</td>\n",
       "    </tr>\n",
       "    <tr>\n",
       "      <th>10</th>\n",
       "      <td>36.0</td>\n",
       "      <td>14.3</td>\n",
       "      <td>514.80</td>\n",
       "      <td>289</td>\n",
       "      <td>4.7</td>\n",
       "      <td>9.1</td>\n",
       "      <td>561.4</td>\n",
       "      <td>em3ev 10S5P- S-shark - PF</td>\n",
       "    </tr>\n",
       "    <tr>\n",
       "      <th>12</th>\n",
       "      <td>36.0</td>\n",
       "      <td>11.4</td>\n",
       "      <td>410.40</td>\n",
       "      <td>249</td>\n",
       "      <td>4.7</td>\n",
       "      <td>11.5</td>\n",
       "      <td>606.7</td>\n",
       "      <td>em3ev 10S4P- S-shark - PF</td>\n",
       "    </tr>\n",
       "    <tr>\n",
       "      <th>11</th>\n",
       "      <td>36.0</td>\n",
       "      <td>17.0</td>\n",
       "      <td>612.00</td>\n",
       "      <td>380</td>\n",
       "      <td>4.7</td>\n",
       "      <td>7.7</td>\n",
       "      <td>620.9</td>\n",
       "      <td>em3ev 10S5P- S-shark - 35E</td>\n",
       "    </tr>\n",
       "    <tr>\n",
       "      <th>7</th>\n",
       "      <td>50.4</td>\n",
       "      <td>13.6</td>\n",
       "      <td>685.44</td>\n",
       "      <td>462</td>\n",
       "      <td>4.1</td>\n",
       "      <td>6.0</td>\n",
       "      <td>674.0</td>\n",
       "      <td>em3ev 14S4P - shark - 35E</td>\n",
       "    </tr>\n",
       "    <tr>\n",
       "      <th>13</th>\n",
       "      <td>36.0</td>\n",
       "      <td>13.6</td>\n",
       "      <td>489.60</td>\n",
       "      <td>335</td>\n",
       "      <td>4.7</td>\n",
       "      <td>9.6</td>\n",
       "      <td>684.2</td>\n",
       "      <td>em3ev 10S4P- S-shark - 35E</td>\n",
       "    </tr>\n",
       "  </tbody>\n",
       "</table>\n",
       "</div>"
      ],
      "text/plain": [
       "       V    Ah       Wh  Euros   kg  kg/kWh  E/kWh  \\\n",
       "0   50.4  25.7  1295.28    588  6.8     5.2  454.0   \n",
       "1   50.4  30.6  1542.24    724  6.8     4.4  469.4   \n",
       "2   50.4  17.1   861.84    407  4.5     5.2  472.2   \n",
       "3   50.4  20.4  1028.16    516  4.5     4.4  501.9   \n",
       "4   50.4  14.3   720.72    363  4.9     6.8  503.7   \n",
       "5   50.4  17.0   856.80    435  4.9     5.7  507.7   \n",
       "8   46.8  14.3   669.24    345  4.6     6.9  515.5   \n",
       "9   46.8  17.0   795.60    413  4.6     5.8  519.1   \n",
       "6   50.4  11.4   574.56    308  4.1     7.1  536.1   \n",
       "10  36.0  14.3   514.80    289  4.7     9.1  561.4   \n",
       "12  36.0  11.4   410.40    249  4.7    11.5  606.7   \n",
       "11  36.0  17.0   612.00    380  4.7     7.7  620.9   \n",
       "7   50.4  13.6   685.44    462  4.1     6.0  674.0   \n",
       "13  36.0  13.6   489.60    335  4.7     9.6  684.2   \n",
       "\n",
       "                           desc  \n",
       "0    em3ev 14S9P - triange - PF  \n",
       "1   em3ev 14S9P - triange - 35E  \n",
       "2    em3ev 14S6P - triange - PF  \n",
       "3   em3ev 14S6P - triange - 35E  \n",
       "4    em3ev 14S5P - J-shark - PF  \n",
       "5   em3ev 14S5P - J-shark - 35E  \n",
       "8    em3ev 13S5P - J-shark - PF  \n",
       "9   em3ev 13S5P - J-shark - 35E  \n",
       "6      em3ev 14S4P - shark - PF  \n",
       "10    em3ev 10S5P- S-shark - PF  \n",
       "12    em3ev 10S4P- S-shark - PF  \n",
       "11   em3ev 10S5P- S-shark - 35E  \n",
       "7     em3ev 14S4P - shark - 35E  \n",
       "13   em3ev 10S4P- S-shark - 35E  "
      ]
     },
     "execution_count": 45,
     "metadata": {},
     "output_type": "execute_result"
    }
   ],
   "source": [
    "import pandas as pd\n",
    "import numpy as np\n",
    "\n",
    "batteries = Listing([\n",
    "    Battery(50.4, 11.6, 335, 4, desc='UPP Panasonic PF - 14S4P', url='https://it.aliexpress.com/item/32741295093.html?scm=1007.22893.142324.0&pvid=1e826fb8-25b7-47c4-a809-9c75029f1a50&onelink_page_from=ITEM_DETAIL&onelink_item_to=32741295093&onelink_duration=1.228356&onelink_status=noneresult&onelink_item_from=32741295093&onelink_page_to=ITEM_DETAIL&aff_platform=product&cpt=1567714916232&sk=bV4GNdHO&aff_trace_key=2dd047bc335b488ba418d8e66632834d-1567714916232-08849-bV4GNdHO&terminal_id=0c15415f4aba472c9bae248bb885084c'),\n",
    "    Battery(50.4, 11.6, 313, 4, desc='UPP Samsung 29E - 14S4P', note=''),\n",
    "    Battery(36, 10, 200, 4, desc='UPP unknown', url='https://it.aliexpress.com/item/32964425992.html'),\n",
    "    Battery(36, 13, 227, 4, desc='UPP unknown', url='https://it.aliexpress.com/item/32964425992.html?scm=1007.22893.142324.0&pvid=038e7be2-f013-4099-84bc-4e1be42a67e7&onelink_page_from=ITEM_DETAIL&onelink_item_to=32964425992&onelink_duration=3.041685&onelink_status=noneresult&onelink_item_from=32964425992&onelink_page_to=ITEM_DETAIL&aff_platform=product&cpt=1567714923920&sk=M5Uw0gg&aff_trace_key=a21a5e653367431f8c61f52c2f648828-1567714923920-09994-M5Uw0gg&terminal_id=0c15415f4aba472c9bae248bb885084c'),\n",
    "    Battery(36, 14.5, 301, 4, desc='UPP unknown', url='https://it.aliexpress.com/item/32964425992.html'),\n",
    "    Battery(48, 10.4, 292, 4, desc='UPP unknown', url='https://it.aliexpress.com/item/32964425992.html'),\n",
    "    Battery(48, 14.5, 388, 4, desc='UPP unknown', url='https://it.aliexpress.com/item/32964425992.html'),\n",
    "    Battery(48, 17.5, 481, 4.5, desc='UPP unknown', url='https://it.aliexpress.com/item/32964425992.html'),\n",
    "    Battery(50.4, 25.7, 588, 6.8, desc='em3ev 14S9P - triange - PF', url='https://em3ev.com/shop/50v-14s9p-large-triangle-pack/?currency=EUR'),\n",
    "    Battery(50.4, 30.6, 724, 6.8, desc='em3ev 14S9P - triange - 35E', url='https://em3ev.com/shop/50v-14s9p-large-triangle-pack/?currency=EUR'),    \n",
    "    Battery(50.4, 17.1, 407, 4.5, desc='em3ev 14S6P - triange - PF', url='https://em3ev.com/shop/50v-14s6p-small-triangle-pack/?currency=EUR'),\n",
    "    Battery(50.4, 20.4, 516, 4.5, desc='em3ev 14S6P - triange - 35E', url='https://em3ev.com/shop/50v-14s6p-small-triangle-pack/?currency=EUR'),    \n",
    "    Battery(50.4, 14.3, 363, 4.9, desc='em3ev 14S5P - J-shark - PF', url='https://em3ev.com/shop/em3ev-52v-14s5p-jumbo-shark-ebike-battery'),    \n",
    "    Battery(50.4, 17, 435, 4.9, desc='em3ev 14S5P - J-shark - 35E', url='https://em3ev.com/shop/em3ev-52v-14s5p-jumbo-shark-ebike-battery'),    \n",
    "    Battery(50.4, 11.4, 308, 4.1, desc='em3ev 14S4P - shark - PF', url='https://em3ev.com/shop/52v-14s4p-shark/'),    \n",
    "    Battery(50.4, 13.6, 462, 4.1, desc='em3ev 14S4P - shark - 35E', url='https://em3ev.com/shop/52v-14s4p-shark/'),    \n",
    "    Battery(46.8, 14.3, 345, 4.6, desc='em3ev 13S5P - J-shark - PF', url='https://em3ev.com/shop/em3ev-48v-13s5p-jumbo-shark-ebike-battery/?currency=EUR'),    \n",
    "    Battery(46.8, 17, 413, 4.6, desc='em3ev 13S5P - J-shark - 35E', url='https://em3ev.com/shop/em3ev-48v-13s5p-jumbo-shark-ebike-battery/?currency=EUR'),        \n",
    "    Battery(36, 10.5, 332, 1.8, desc='LG MJ1 revel', url='https://www.revelpropulsion.com/store-1/battery-pack'),        \n",
    "    Battery(36, 14.3, 289, 4.7, desc='em3ev 10S5P- S-shark - PF', url='https://em3ev.com/shop/36v-super-shark-ebike-battery/'),        \n",
    "    Battery(36, 17, 380, 4.7, desc='em3ev 10S5P- S-shark - 35E', url='https://em3ev.com/shop/36v-super-shark-ebike-battery/'),        \n",
    "    Battery(36, 11.4, 249, 4.7, desc='em3ev 10S4P- S-shark - PF', url='https://em3ev.com/shop/em3ev-36v-10s4p-super-shark-ebike-battery'),        \n",
    "    Battery(36, 13.6, 335, 4.7, desc='em3ev 10S4P- S-shark - 35E', url='https://em3ev.com/shop/em3ev-36v-10s4p-super-shark-ebike-battery'),        \n",
    "    \n",
    "])\n",
    "\n",
    "#print(Listing(batteries))\n",
    "#Listing(batteries)\n",
    "\n",
    "df = pd.DataFrame([[b.tension, b.ah, b.capacity, b.price, b.weight, round(b.weight/b.capacity*1000, 1), round(b.price/b.capacity*1000, 1), b.desc] \n",
    "              for b in batteries if 'em3ev' in b.desc], columns=['V', 'Ah', 'Wh', 'Euros', 'kg', 'kg/kWh','E/kWh', 'desc'\n",
    "])\n",
    "\n",
    "#df.sort_values('kg/kWh')\n",
    "df.sort_values('E/kWh')\n",
    "#df.sort_values('kg/kWh')\n",
    "#df.sort_values('Euros')\n"
   ]
  },
  {
   "cell_type": "code",
   "execution_count": 17,
   "metadata": {},
   "outputs": [
    {
     "data": {
      "text/plain": [
       "(50.4, 17.5, 882.0, 70, 262.5)"
      ]
     },
     "execution_count": 17,
     "metadata": {},
     "output_type": "execute_result"
    }
   ],
   "source": [
    "nominal_v = 3.6\n",
    "nominal_ah = 3.5\n",
    "#13*nominal, 14*nominal\n",
    "S, P = 10, 3\n",
    "S, P = 10, 14\n",
    "S, P = 10, 7\n",
    "S, P = 14, 5\n",
    "#S, P = 14, 10\n",
    "cellprice = 5.57  # LG MJ1\n",
    "cellprice = 3.75  # Samsung 35E\n",
    "S*nominal_v, P*nominal_ah, S*P*nominal_ah*nominal_v, S*P, S*P*cellprice"
   ]
  },
  {
   "cell_type": "code",
   "execution_count": 12,
   "metadata": {},
   "outputs": [
    {
     "data": {
      "text/plain": [
       "112"
      ]
     },
     "execution_count": 12,
     "metadata": {},
     "output_type": "execute_result"
    }
   ],
   "source": [
    "5*2"
   ]
  },
  {
   "cell_type": "code",
   "execution_count": 4,
   "metadata": {},
   "outputs": [
    {
     "data": {
      "text/html": [
       "<div>\n",
       "<style scoped>\n",
       "    .dataframe tbody tr th:only-of-type {\n",
       "        vertical-align: middle;\n",
       "    }\n",
       "\n",
       "    .dataframe tbody tr th {\n",
       "        vertical-align: top;\n",
       "    }\n",
       "\n",
       "    .dataframe thead th {\n",
       "        text-align: right;\n",
       "    }\n",
       "</style>\n",
       "<table border=\"1\" class=\"dataframe\">\n",
       "  <thead>\n",
       "    <tr style=\"text-align: right;\">\n",
       "      <th></th>\n",
       "      <th>V</th>\n",
       "      <th>Ah</th>\n",
       "      <th>Wh</th>\n",
       "      <th>Euros</th>\n",
       "      <th>kg</th>\n",
       "      <th>kg/kWh</th>\n",
       "      <th>E/kWh</th>\n",
       "      <th>desc</th>\n",
       "    </tr>\n",
       "  </thead>\n",
       "  <tbody>\n",
       "    <tr>\n",
       "      <th>9</th>\n",
       "      <td>50.4</td>\n",
       "      <td>20.4</td>\n",
       "      <td>1028.16</td>\n",
       "      <td>516</td>\n",
       "      <td>4.5</td>\n",
       "      <td>4.4</td>\n",
       "      <td>501.9</td>\n",
       "      <td>em3ev 14S6P - 35E</td>\n",
       "    </tr>\n",
       "    <tr>\n",
       "      <th>12</th>\n",
       "      <td>36.0</td>\n",
       "      <td>10.5</td>\n",
       "      <td>378.00</td>\n",
       "      <td>332</td>\n",
       "      <td>1.8</td>\n",
       "      <td>4.8</td>\n",
       "      <td>878.3</td>\n",
       "      <td>LG MJ1 revel</td>\n",
       "    </tr>\n",
       "    <tr>\n",
       "      <th>8</th>\n",
       "      <td>50.4</td>\n",
       "      <td>17.1</td>\n",
       "      <td>861.84</td>\n",
       "      <td>407</td>\n",
       "      <td>4.5</td>\n",
       "      <td>5.2</td>\n",
       "      <td>472.2</td>\n",
       "      <td>em3ev 14S6P - PF</td>\n",
       "    </tr>\n",
       "    <tr>\n",
       "      <th>7</th>\n",
       "      <td>48.0</td>\n",
       "      <td>17.5</td>\n",
       "      <td>840.00</td>\n",
       "      <td>481</td>\n",
       "      <td>4.5</td>\n",
       "      <td>5.4</td>\n",
       "      <td>572.6</td>\n",
       "      <td>UPP unknown</td>\n",
       "    </tr>\n",
       "    <tr>\n",
       "      <th>6</th>\n",
       "      <td>48.0</td>\n",
       "      <td>14.5</td>\n",
       "      <td>696.00</td>\n",
       "      <td>388</td>\n",
       "      <td>4.0</td>\n",
       "      <td>5.7</td>\n",
       "      <td>557.5</td>\n",
       "      <td>UPP unknown</td>\n",
       "    </tr>\n",
       "    <tr>\n",
       "      <th>11</th>\n",
       "      <td>46.8</td>\n",
       "      <td>17.0</td>\n",
       "      <td>795.60</td>\n",
       "      <td>413</td>\n",
       "      <td>4.6</td>\n",
       "      <td>5.8</td>\n",
       "      <td>519.1</td>\n",
       "      <td>em3ev 13S5P - 35E</td>\n",
       "    </tr>\n",
       "    <tr>\n",
       "      <th>0</th>\n",
       "      <td>50.4</td>\n",
       "      <td>11.6</td>\n",
       "      <td>584.64</td>\n",
       "      <td>335</td>\n",
       "      <td>4.0</td>\n",
       "      <td>6.8</td>\n",
       "      <td>573.0</td>\n",
       "      <td>UPP Panasonic PF - 14S4P</td>\n",
       "    </tr>\n",
       "    <tr>\n",
       "      <th>1</th>\n",
       "      <td>50.4</td>\n",
       "      <td>11.6</td>\n",
       "      <td>584.64</td>\n",
       "      <td>313</td>\n",
       "      <td>4.0</td>\n",
       "      <td>6.8</td>\n",
       "      <td>535.4</td>\n",
       "      <td>UPP Samsung 29E - 14S4P</td>\n",
       "    </tr>\n",
       "    <tr>\n",
       "      <th>10</th>\n",
       "      <td>46.8</td>\n",
       "      <td>14.3</td>\n",
       "      <td>669.24</td>\n",
       "      <td>345</td>\n",
       "      <td>4.6</td>\n",
       "      <td>6.9</td>\n",
       "      <td>515.5</td>\n",
       "      <td>em3ev 13S5P - PF</td>\n",
       "    </tr>\n",
       "    <tr>\n",
       "      <th>4</th>\n",
       "      <td>36.0</td>\n",
       "      <td>14.5</td>\n",
       "      <td>522.00</td>\n",
       "      <td>301</td>\n",
       "      <td>4.0</td>\n",
       "      <td>7.7</td>\n",
       "      <td>576.6</td>\n",
       "      <td>UPP unknown</td>\n",
       "    </tr>\n",
       "    <tr>\n",
       "      <th>14</th>\n",
       "      <td>36.0</td>\n",
       "      <td>17.0</td>\n",
       "      <td>612.00</td>\n",
       "      <td>380</td>\n",
       "      <td>4.7</td>\n",
       "      <td>7.7</td>\n",
       "      <td>620.9</td>\n",
       "      <td>em3ev 10S5P - 35E</td>\n",
       "    </tr>\n",
       "    <tr>\n",
       "      <th>5</th>\n",
       "      <td>48.0</td>\n",
       "      <td>10.4</td>\n",
       "      <td>499.20</td>\n",
       "      <td>292</td>\n",
       "      <td>4.0</td>\n",
       "      <td>8.0</td>\n",
       "      <td>584.9</td>\n",
       "      <td>UPP unknown</td>\n",
       "    </tr>\n",
       "    <tr>\n",
       "      <th>3</th>\n",
       "      <td>36.0</td>\n",
       "      <td>13.0</td>\n",
       "      <td>468.00</td>\n",
       "      <td>227</td>\n",
       "      <td>4.0</td>\n",
       "      <td>8.5</td>\n",
       "      <td>485.0</td>\n",
       "      <td>UPP unknown</td>\n",
       "    </tr>\n",
       "    <tr>\n",
       "      <th>13</th>\n",
       "      <td>36.0</td>\n",
       "      <td>14.3</td>\n",
       "      <td>514.80</td>\n",
       "      <td>289</td>\n",
       "      <td>4.7</td>\n",
       "      <td>9.1</td>\n",
       "      <td>561.4</td>\n",
       "      <td>em3ev 10S5P - PF</td>\n",
       "    </tr>\n",
       "    <tr>\n",
       "      <th>16</th>\n",
       "      <td>36.0</td>\n",
       "      <td>13.6</td>\n",
       "      <td>489.60</td>\n",
       "      <td>335</td>\n",
       "      <td>4.7</td>\n",
       "      <td>9.6</td>\n",
       "      <td>684.2</td>\n",
       "      <td>em3ev 10S4P - 35E</td>\n",
       "    </tr>\n",
       "    <tr>\n",
       "      <th>2</th>\n",
       "      <td>36.0</td>\n",
       "      <td>10.0</td>\n",
       "      <td>360.00</td>\n",
       "      <td>200</td>\n",
       "      <td>4.0</td>\n",
       "      <td>11.1</td>\n",
       "      <td>555.6</td>\n",
       "      <td>UPP unknown</td>\n",
       "    </tr>\n",
       "    <tr>\n",
       "      <th>15</th>\n",
       "      <td>36.0</td>\n",
       "      <td>11.4</td>\n",
       "      <td>410.40</td>\n",
       "      <td>249</td>\n",
       "      <td>4.7</td>\n",
       "      <td>11.5</td>\n",
       "      <td>606.7</td>\n",
       "      <td>em3ev 10S4P - PF</td>\n",
       "    </tr>\n",
       "  </tbody>\n",
       "</table>\n",
       "</div>"
      ],
      "text/plain": [
       "       V    Ah       Wh  Euros   kg  kg/kWh  E/kWh                      desc\n",
       "9   50.4  20.4  1028.16    516  4.5     4.4  501.9         em3ev 14S6P - 35E\n",
       "12  36.0  10.5   378.00    332  1.8     4.8  878.3              LG MJ1 revel\n",
       "8   50.4  17.1   861.84    407  4.5     5.2  472.2          em3ev 14S6P - PF\n",
       "7   48.0  17.5   840.00    481  4.5     5.4  572.6               UPP unknown\n",
       "6   48.0  14.5   696.00    388  4.0     5.7  557.5               UPP unknown\n",
       "11  46.8  17.0   795.60    413  4.6     5.8  519.1         em3ev 13S5P - 35E\n",
       "0   50.4  11.6   584.64    335  4.0     6.8  573.0  UPP Panasonic PF - 14S4P\n",
       "1   50.4  11.6   584.64    313  4.0     6.8  535.4   UPP Samsung 29E - 14S4P\n",
       "10  46.8  14.3   669.24    345  4.6     6.9  515.5          em3ev 13S5P - PF\n",
       "4   36.0  14.5   522.00    301  4.0     7.7  576.6               UPP unknown\n",
       "14  36.0  17.0   612.00    380  4.7     7.7  620.9         em3ev 10S5P - 35E\n",
       "5   48.0  10.4   499.20    292  4.0     8.0  584.9               UPP unknown\n",
       "3   36.0  13.0   468.00    227  4.0     8.5  485.0               UPP unknown\n",
       "13  36.0  14.3   514.80    289  4.7     9.1  561.4          em3ev 10S5P - PF\n",
       "16  36.0  13.6   489.60    335  4.7     9.6  684.2         em3ev 10S4P - 35E\n",
       "2   36.0  10.0   360.00    200  4.0    11.1  555.6               UPP unknown\n",
       "15  36.0  11.4   410.40    249  4.7    11.5  606.7          em3ev 10S4P - PF"
      ]
     },
     "execution_count": 4,
     "metadata": {},
     "output_type": "execute_result"
    }
   ],
   "source": [
    "#df.set_index('kg/kWh').sort_index(axis=0)\n",
    "df.sort_values('kg/kWh')\n",
    "#df.sort_values('E/kWh')"
   ]
  },
  {
   "cell_type": "code",
   "execution_count": 121,
   "metadata": {},
   "outputs": [
    {
     "data": {
      "text/plain": [
       "27.77777777777778"
      ]
     },
     "execution_count": 121,
     "metadata": {},
     "output_type": "execute_result"
    }
   ],
   "source": [
    "1000/36"
   ]
  },
  {
   "cell_type": "code",
   "execution_count": 57,
   "metadata": {},
   "outputs": [
    {
     "data": {
      "text/html": [
       "<a href=\"https://it.aliexpress.com/item/32741295093.html?scm=1007.22893.142324.0&pvid=1e826fb8-25b7-47c4-a809-9c75029f1a50&onelink_page_from=ITEM_DETAIL&onelink_item_to=32741295093&onelink_duration=1.228356&onelink_status=noneresult&onelink_item_from=32741295093&onelink_page_to=ITEM_DETAIL&aff_platform=product&cpt=1567714916232&sk=bV4GNdHO&aff_trace_key=2dd047bc335b488ba418d8e66632834d-1567714916232-08849-bV4GNdHO&terminal_id=0c15415f4aba472c9bae248bb885084c\">48 V, 556 Wh, 335 E :: 3.59 kg/500 Wh, 301 E/500 Wh :: UPP Panasonic PF - 14S4P</a>"
      ],
      "text/plain": [
       "<__main__.Battery at 0x7fb6382b1f28>"
      ]
     },
     "execution_count": 57,
     "metadata": {},
     "output_type": "execute_result"
    }
   ],
   "source": [
    "batteries[0]"
   ]
  },
  {
   "cell_type": "markdown",
   "metadata": {
    "heading_collapsed": true
   },
   "source": [
    "# Motor efficiency\n",
    "\n",
    "In price estimations we take Italy as an example"
   ]
  },
  {
   "cell_type": "markdown",
   "metadata": {
    "hidden": true
   },
   "source": [
    "## Electricity and fuel price\n",
    "\n",
    "electricity price in euro per Watt-hour"
   ]
  },
  {
   "cell_type": "code",
   "execution_count": 2,
   "metadata": {
    "hidden": true
   },
   "outputs": [],
   "source": [
    "e_price = 0.1 / 1000"
   ]
  },
  {
   "cell_type": "markdown",
   "metadata": {
    "hidden": true
   },
   "source": [
    "gasoline price (essence) in euros per liter"
   ]
  },
  {
   "cell_type": "code",
   "execution_count": 4,
   "metadata": {
    "hidden": true
   },
   "outputs": [],
   "source": [
    "gas_price = 1.55"
   ]
  },
  {
   "cell_type": "code",
   "execution_count": 7,
   "metadata": {
    "hidden": true
   },
   "outputs": [
    {
     "data": {
      "text/plain": [
       "0.06999999999999999"
      ]
     },
     "execution_count": 7,
     "metadata": {},
     "output_type": "execute_result"
    }
   ],
   "source": [
    "# electricity price \n",
    "wh_per_km = 7\n",
    "euros_per_100km = e_price*wh_per_km*100\n",
    "euros_per_100km"
   ]
  },
  {
   "cell_type": "code",
   "execution_count": 15,
   "metadata": {
    "hidden": true
   },
   "outputs": [
    {
     "data": {
      "text/plain": [
       "0.7"
      ]
     },
     "execution_count": 15,
     "metadata": {},
     "output_type": "execute_result"
    }
   ],
   "source": [
    "capacity_wh = 500\n",
    "capacity_km = capacity_wh/wh_per_km\n",
    "battery_euro_per_wh = 0.5  # up to 0.8\n",
    "battery_price = capacity_wh*battery_euro_per_wh\n",
    "cycles = 500\n",
    "maxwh = capacity_wh*cycles\n",
    "maxkm = capacity_km*cycles\n",
    "battery_euros_per_km = battery_price/maxkm\n",
    "battery_euros_per_km*100"
   ]
  },
  {
   "cell_type": "code",
   "execution_count": 16,
   "metadata": {
    "hidden": true
   },
   "outputs": [
    {
     "data": {
      "text/plain": [
       "4.65"
      ]
     },
     "execution_count": 16,
     "metadata": {},
     "output_type": "execute_result"
    }
   ],
   "source": [
    "efficiency_moppet = 3  # 3 L per 100 km\n",
    "gas_price = 1.55  # euros per L\n",
    "efficiency_moppet*gas_price"
   ]
  },
  {
   "cell_type": "code",
   "execution_count": 17,
   "metadata": {
    "hidden": true
   },
   "outputs": [
    {
     "data": {
      "text/plain": [
       "6.03896103896104"
      ]
     },
     "execution_count": 17,
     "metadata": {},
     "output_type": "execute_result"
    }
   ],
   "source": [
    "efficiency_moppet*gas_price/(battery_euros_per_km*100+e_price*wh_per_km*100)"
   ]
  },
  {
   "cell_type": "code",
   "execution_count": null,
   "metadata": {
    "hidden": true
   },
   "outputs": [],
   "source": []
  }
 ],
 "metadata": {
  "kernelspec": {
   "display_name": "Python 3",
   "language": "python",
   "name": "python3"
  },
  "language_info": {
   "codemirror_mode": {
    "name": "ipython",
    "version": 3
   },
   "file_extension": ".py",
   "mimetype": "text/x-python",
   "name": "python",
   "nbconvert_exporter": "python",
   "pygments_lexer": "ipython3",
   "version": "3.6.7"
  }
 },
 "nbformat": 4,
 "nbformat_minor": 2
}
